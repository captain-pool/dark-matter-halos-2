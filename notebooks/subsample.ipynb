{
 "cells": [
  {
   "cell_type": "code",
   "execution_count": 1,
   "id": "ae1ebe84-6420-401f-9a9e-704f490f2abe",
   "metadata": {},
   "outputs": [
    {
     "name": "stdout",
     "output_type": "stream",
     "text": [
      "/cis/home/dpacker/my_documents/dark-matter-halos\n"
     ]
    }
   ],
   "source": [
    "%load_ext autoreload\n",
    "%autoreload 2\n",
    "\n",
    "import os\n",
    "os.environ['CUDA_VISIBLE_DEVICES'] = '3'\n",
    "%cd .."
   ]
  },
  {
   "cell_type": "code",
   "execution_count": 2,
   "id": "300a56b2-70ba-4d37-b329-35122f99fcad",
   "metadata": {},
   "outputs": [],
   "source": [
    "from src.subsampling.subsample import *\n",
    "import numpy as np\n",
    "from pathlib import Path\n",
    "import pickle\n",
    "import gzip\n",
    "from jax import numpy as jnp\n",
    "rng = np.random.default_rng(seed=0)\n",
    "\n",
    "root_path = Path(\".\")\n",
    "data_path = root_path / \"data\"\n",
    "generated_data_path = root_path / \"generated_data_extended\""
   ]
  },
  {
   "cell_type": "code",
   "execution_count": 3,
   "id": "31eea9a7-7bb4-4c3d-9b73-119d7b6acb1e",
   "metadata": {},
   "outputs": [],
   "source": [
    "FILE = 'halo_pointclouds_extended.pkl.gz'\n",
    "with gzip.open(data_path / FILE, \"r\") as f:\n",
    "    points_list, velocities_list, halos_sel = pickle.load(f)   \n",
    "points_list = [preprocess_pointcloud(p) for p in points_list]\n"
   ]
  },
  {
   "cell_type": "code",
   "execution_count": 4,
   "id": "d0cdda0e-da33-4dce-9ef7-21f496e52296",
   "metadata": {},
   "outputs": [
    {
     "data": {
      "application/vnd.jupyter.widget-view+json": {
       "model_id": "6fb8eea6762c4b558f1d9914d5e66c33",
       "version_major": 2,
       "version_minor": 0
      },
      "text/plain": [
       "  0%|          | 0/500 [00:00<?, ?it/s]"
      ]
     },
     "metadata": {},
     "output_type": "display_data"
    },
    {
     "data": {
      "application/vnd.jupyter.widget-view+json": {
       "model_id": "6d90625c46d34c7280391bb33b592053",
       "version_major": 2,
       "version_minor": 0
      },
      "text/plain": [
       "  0%|          | 0/500 [00:00<?, ?it/s]"
      ]
     },
     "metadata": {},
     "output_type": "display_data"
    }
   ],
   "source": [
    "downsample_size = 75\n",
    "n_trials = 1\n",
    "sampled_points, sampled_weights = kmeans_downsample_points(\n",
    "    points_list, downsample_size, n_trials, pbar=True\n",
    ")\n",
    "\n",
    "sampled_velocities = np.zeros((sampled_points.shape[0], n_trials, downsample_size, 3))\n",
    "for i in tqdm(range(sampled_points.shape[0])):\n",
    "    for t in range(n_trials):\n",
    "        sampled_velocities[i, t] = aggregate_velocities(\n",
    "            points_list[i], recenter(velocities_list[i]), sampled_points[i, t]\n",
    "        )\n",
    "\n",
    "jnp.savez(\n",
    "    generated_data_path / f\"kmeans_subsampled_n{n_trials}_s{downsample_size}.npz\",\n",
    "    points=sampled_points,\n",
    "    weights=sampled_weights,\n",
    "    velocities=sampled_velocities,\n",
    ")"
   ]
  },
  {
   "cell_type": "code",
   "execution_count": 10,
   "id": "9c6dc6e2",
   "metadata": {},
   "outputs": [],
   "source": [
    "jnp.savez(generated_data_path / \"features_and_targets.npz\",\n",
    "        **halos_sel\n",
    "          )"
   ]
  },
  {
   "cell_type": "code",
   "execution_count": 9,
   "id": "79a713a9",
   "metadata": {},
   "outputs": [
    {
     "data": {
      "text/plain": [
       "dict_keys(['StellarMass', 'HalfMassRad', 'StellarMetallicity', 'StarFormRate', 'SubhaloC200', 'Group_M_Crit200'])"
      ]
     },
     "execution_count": 9,
     "metadata": {},
     "output_type": "execute_result"
    }
   ],
   "source": [
    "halos_sel.keys()"
   ]
  }
 ],
 "metadata": {
  "kernelspec": {
   "display_name": "Python (jax-env)",
   "language": "python",
   "name": "jaxkernel"
  },
  "language_info": {
   "codemirror_mode": {
    "name": "ipython",
    "version": 3
   },
   "file_extension": ".py",
   "mimetype": "text/x-python",
   "name": "python",
   "nbconvert_exporter": "python",
   "pygments_lexer": "ipython3",
   "version": "3.11.5"
  }
 },
 "nbformat": 4,
 "nbformat_minor": 5
}
