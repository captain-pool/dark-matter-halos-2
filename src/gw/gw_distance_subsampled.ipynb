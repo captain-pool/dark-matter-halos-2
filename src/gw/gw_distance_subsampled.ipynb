{
 "cells": [
  {
   "cell_type": "code",
   "execution_count": 2,
   "id": "3180c065-e26b-47ea-b0d6-46de8720e23d",
   "metadata": {},
   "outputs": [],
   "source": [
    "%load_ext autoreload\n",
    "%autoreload 2"
   ]
  },
  {
   "cell_type": "code",
   "execution_count": 3,
   "id": "d1ae9eb2-40f7-4f57-a8a2-0ace4481b794",
   "metadata": {},
   "outputs": [],
   "source": [
    "import jax\n",
    "from jax import numpy as jnp\n",
    "from ott.solvers.quadratic import gromov_wasserstein\n",
    "from ott.problems.quadratic import quadratic_problem\n",
    "from ott.solvers.quadratic import lower_bound\n",
    "from ott.geometry import pointcloud, costs\n",
    "from pathlib import Path\n",
    "import matplotlib.pyplot as plt\n",
    "from tqdm.notebook import tqdm\n",
    "import numpy as np\n",
    "\n",
    "root_path = Path(\"../..\")\n",
    "data_path = root_path / \"data\""
   ]
  },
  {
   "cell_type": "code",
   "execution_count": 4,
   "id": "53c3b18f-1a3c-4a0b-96e0-30492b6449e6",
   "metadata": {},
   "outputs": [],
   "source": [
    "subsampled = jnp.load(data_path / \"kmeans_subsampled_n10_s50.npz\")\n",
    "train_indices = np.loadtxt(data_path / \"train_indices.txt\").astype(int)"
   ]
  },
  {
   "cell_type": "code",
   "execution_count": 5,
   "id": "095f323b-689d-4a9d-b312-c0d18c0e2c8c",
   "metadata": {},
   "outputs": [],
   "source": [
    "pts = subsampled[\"points\"]\n",
    "wghts = subsampled[\"weights\"]\n",
    "\n",
    "train_pts = pts[train_indices]\n",
    "train_wghts = wghts[train_indices]"
   ]
  },
  {
   "cell_type": "code",
   "execution_count": 6,
   "id": "d8f71a76-4379-439f-acfd-ab816d4c1f81",
   "metadata": {},
   "outputs": [],
   "source": [
    "def preprocess_pts(pts):\n",
    "    rec_pts = pts - pts.mean(axis=0, keepdims=True)\n",
    "    norm_pts = rec_pts / 30\n",
    "    return norm_pts\n",
    "\n",
    "def gw_distance(pts_a, pts_b, wghts_a, wghts_b, epsilon=2e0):\n",
    "    cloud_a = pointcloud.PointCloud(preprocess_pts(pts_a), cost_fn=costs.SqEuclidean())\n",
    "    cloud_b = pointcloud.PointCloud(preprocess_pts(pts_b), cost_fn=costs.SqEuclidean())\n",
    "\n",
    "    prob = quadratic_problem.QuadraticProblem(cloud_a, cloud_b, a=wghts_a, b=wghts_b)\n",
    "\n",
    "    solver = gromov_wasserstein.GromovWasserstein(epsilon=epsilon)\n",
    "\n",
    "    return solver(prob)\n",
    "\n",
    "t = 0\n",
    "# soln = gw_distance(pts[5, t], pts[6, t], wghts[5, t], wghts[6, t])\n",
    "trialed_gw_distance = jax.vmap(gw_distance)\n",
    "dists_to_pointcloud = jax.jit(jax.vmap(trialed_gw_distance, in_axes=[0, None, 0, None]))\n",
    "pairwise_dists = jax.jit(jax.vmap(dists_to_pointcloud, in_axes=[None, 0, None, 0]))\n",
    "\n",
    "def self_pairwise_dists(pts, wghts):\n",
    "    return pairwise_dists(pts, pts, wghts, wghts)"
   ]
  },
  {
   "cell_type": "code",
   "execution_count": 15,
   "id": "6945bbcc-27fe-4522-ad20-9085b17289cd",
   "metadata": {},
   "outputs": [],
   "source": [
    "dist_mat = self_pairwise_dists(train_pts[:7, :], train_wghts[:7, :])"
   ]
  },
  {
   "cell_type": "code",
   "execution_count": 16,
   "id": "e2d9887d-5e2a-433a-8122-a99659f9d357",
   "metadata": {},
   "outputs": [],
   "source": [
    "import seaborn as sns\n",
    "# sns.heatmap(dist_mat.reg_gw_cost[:, :, 1], vmin=0)\n",
    "# sns.heatmap(jnp.median(dist_mat.reg_gw_cost, -1), vmin=0)\n",
    "# dist_mat.reg_gw_cost.std(-1)\n",
    "# dist_mat.reg_gw_cost > 1e3"
   ]
  },
  {
   "cell_type": "code",
   "execution_count": 17,
   "id": "802acca6-05f4-4395-bfa8-9b2bd900efd5",
   "metadata": {},
   "outputs": [
    {
     "data": {
      "text/plain": [
       "<Axes: >"
      ]
     },
     "execution_count": 17,
     "metadata": {},
     "output_type": "execute_result"
    },
    {
     "data": {
      "image/png": "[encoded data removed]",
      "text/plain": [
       "<Figure size 640x480 with 2 Axes>"
      ]
     },
     "metadata": {},
     "output_type": "display_data"
    }
   ],
   "source": [
    "# plt.imshow(dist_mat[5, 0, 0])\n",
    "sns.heatmap(jnp.sqrt(dist_mat.reg_gw_cost[:, :, 0]))"
   ]
  },
  {
   "cell_type": "code",
   "execution_count": 18,
   "id": "4f352fed-4e21-466f-be61-87250713c557",
   "metadata": {},
   "outputs": [
    {
     "data": {
      "text/plain": [
       "Array([[52.414238, 45.48117 , 41.305466, 40.127357, 39.63638 , 39.48509 ,\n",
       "        39.430267, 39.36915 , 39.34365 , -1.      , -1.      , -1.      ,\n",
       "        -1.      , -1.      , -1.      , -1.      , -1.      , -1.      ,\n",
       "        -1.      , -1.      , -1.      , -1.      , -1.      , -1.      ,\n",
       "        -1.      , -1.      , -1.      , -1.      , -1.      , -1.      ,\n",
       "        -1.      , -1.      , -1.      , -1.      , -1.      , -1.      ,\n",
       "        -1.      , -1.      , -1.      , -1.      , -1.      , -1.      ,\n",
       "        -1.      , -1.      , -1.      , -1.      , -1.      , -1.      ,\n",
       "        -1.      , -1.      ],\n",
       "       [52.882782, 47.721478, 43.435524, 42.300636, 41.694546, 41.448677,\n",
       "        41.2958  , 40.987007, 40.56298 , 40.324688, 40.227943, 40.193405,\n",
       "        -1.      , -1.      , -1.      , -1.      , -1.      , -1.      ,\n",
       "        -1.      , -1.      , -1.      , -1.      , -1.      , -1.      ,\n",
       "        -1.      , -1.      , -1.      , -1.      , -1.      , -1.      ,\n",
       "        -1.      , -1.      , -1.      , -1.      , -1.      , -1.      ,\n",
       "        -1.      , -1.      , -1.      , -1.      , -1.      , -1.      ,\n",
       "        -1.      , -1.      , -1.      , -1.      , -1.      , -1.      ,\n",
       "        -1.      , -1.      ],\n",
       "       [52.848103, 48.359776, 44.69082 , 42.244118, 41.210255, 41.004005,\n",
       "        40.9962  , -1.      , -1.      , -1.      , -1.      , -1.      ,\n",
       "        -1.      , -1.      , -1.      , -1.      , -1.      , -1.      ,\n",
       "        -1.      , -1.      , -1.      , -1.      , -1.      , -1.      ,\n",
       "        -1.      , -1.      , -1.      , -1.      , -1.      , -1.      ,\n",
       "        -1.      , -1.      , -1.      , -1.      , -1.      , -1.      ,\n",
       "        -1.      , -1.      , -1.      , -1.      , -1.      , -1.      ,\n",
       "        -1.      , -1.      , -1.      , -1.      , -1.      , -1.      ,\n",
       "        -1.      , -1.      ],\n",
       "       [52.90278 , 47.581673, 43.16461 , 41.617355, 41.133205, 41.027794,\n",
       "        40.977085, 40.92617 , 40.8535  , 40.758347, 40.6705  , 40.583984,\n",
       "        40.48609 , 40.40751 , 40.299313, 40.223297, 40.166508, 40.141075,\n",
       "        -1.      , -1.      , -1.      , -1.      , -1.      , -1.      ,\n",
       "        -1.      , -1.      , -1.      , -1.      , -1.      , -1.      ,\n",
       "        -1.      , -1.      , -1.      , -1.      , -1.      , -1.      ,\n",
       "        -1.      , -1.      , -1.      , -1.      , -1.      , -1.      ,\n",
       "        -1.      , -1.      , -1.      , -1.      , -1.      , -1.      ,\n",
       "        -1.      , -1.      ],\n",
       "       [53.477215, 49.13793 , 45.07141 , 43.71157 , 42.853165, 42.395355,\n",
       "        42.262634, 42.221497, -1.      , -1.      , -1.      , -1.      ,\n",
       "        -1.      , -1.      , -1.      , -1.      , -1.      , -1.      ,\n",
       "        -1.      , -1.      , -1.      , -1.      , -1.      , -1.      ,\n",
       "        -1.      , -1.      , -1.      , -1.      , -1.      , -1.      ,\n",
       "        -1.      , -1.      , -1.      , -1.      , -1.      , -1.      ,\n",
       "        -1.      , -1.      , -1.      , -1.      , -1.      , -1.      ,\n",
       "        -1.      , -1.      , -1.      , -1.      , -1.      , -1.      ,\n",
       "        -1.      , -1.      ],\n",
       "       [53.31434 , 48.908356, 43.759583, 42.091732, 41.631626, 41.511726,\n",
       "        41.36837 , 41.286175, 41.118397, 40.93206 , 40.738155, 40.634464,\n",
       "        40.563004, 40.552868, -1.      , -1.      , -1.      , -1.      ,\n",
       "        -1.      , -1.      , -1.      , -1.      , -1.      , -1.      ,\n",
       "        -1.      , -1.      , -1.      , -1.      , -1.      , -1.      ,\n",
       "        -1.      , -1.      , -1.      , -1.      , -1.      , -1.      ,\n",
       "        -1.      , -1.      , -1.      , -1.      , -1.      , -1.      ,\n",
       "        -1.      , -1.      , -1.      , -1.      , -1.      , -1.      ,\n",
       "        -1.      , -1.      ],\n",
       "       [52.81257 , 48.049828, 44.348343, 43.04583 , 41.886295, 40.725426,\n",
       "        40.311672, 40.111984, 40.017548, 39.96417 , 39.918533, 39.924004,\n",
       "        -1.      , -1.      , -1.      , -1.      , -1.      , -1.      ,\n",
       "        -1.      , -1.      , -1.      , -1.      , -1.      , -1.      ,\n",
       "        -1.      , -1.      , -1.      , -1.      , -1.      , -1.      ,\n",
       "        -1.      , -1.      , -1.      , -1.      , -1.      , -1.      ,\n",
       "        -1.      , -1.      , -1.      , -1.      , -1.      , -1.      ,\n",
       "        -1.      , -1.      , -1.      , -1.      , -1.      , -1.      ,\n",
       "        -1.      , -1.      ],\n",
       "       [52.699036, 46.830307, 43.79365 , 42.99581 , 42.35453 , 41.723373,\n",
       "        41.49935 , 41.400063, 41.3289  , 41.344173, -1.      , -1.      ,\n",
       "        -1.      , -1.      , -1.      , -1.      , -1.      , -1.      ,\n",
       "        -1.      , -1.      , -1.      , -1.      , -1.      , -1.      ,\n",
       "        -1.      , -1.      , -1.      , -1.      , -1.      , -1.      ,\n",
       "        -1.      , -1.      , -1.      , -1.      , -1.      , -1.      ,\n",
       "        -1.      , -1.      , -1.      , -1.      , -1.      , -1.      ,\n",
       "        -1.      , -1.      , -1.      , -1.      , -1.      , -1.      ,\n",
       "        -1.      , -1.      ],\n",
       "       [52.870327, 46.758648, 42.990067, 41.77629 , 41.23444 , 41.0566  ,\n",
       "        40.91152 , 40.82154 , 40.768787, 40.72142 , 40.624214, 40.501034,\n",
       "        40.341057, 40.204544, 40.140232, 40.1114  , -1.      , -1.      ,\n",
       "        -1.      , -1.      , -1.      , -1.      , -1.      , -1.      ,\n",
       "        -1.      , -1.      , -1.      , -1.      , -1.      , -1.      ,\n",
       "        -1.      , -1.      , -1.      , -1.      , -1.      , -1.      ,\n",
       "        -1.      , -1.      , -1.      , -1.      , -1.      , -1.      ,\n",
       "        -1.      , -1.      , -1.      , -1.      , -1.      , -1.      ,\n",
       "        -1.      , -1.      ],\n",
       "       [53.123337, 47.307804, 43.852295, 42.643158, 42.098957, 41.95855 ,\n",
       "        41.923042, -1.      , -1.      , -1.      , -1.      , -1.      ,\n",
       "        -1.      , -1.      , -1.      , -1.      , -1.      , -1.      ,\n",
       "        -1.      , -1.      , -1.      , -1.      , -1.      , -1.      ,\n",
       "        -1.      , -1.      , -1.      , -1.      , -1.      , -1.      ,\n",
       "        -1.      , -1.      , -1.      , -1.      , -1.      , -1.      ,\n",
       "        -1.      , -1.      , -1.      , -1.      , -1.      , -1.      ,\n",
       "        -1.      , -1.      , -1.      , -1.      , -1.      , -1.      ,\n",
       "        -1.      , -1.      ]], dtype=float32)"
      ]
     },
     "execution_count": 18,
     "metadata": {},
     "output_type": "execute_result"
    }
   ],
   "source": [
    "dist_mat.converged[1,3]\n",
    "dist_mat.costs[1,3]"
   ]
  },
  {
   "cell_type": "code",
   "execution_count": null,
   "id": "93f8a53c-1971-4fc8-b15a-fa88b378ac32",
   "metadata": {},
   "outputs": [],
   "source": []
  }
 ],
 "metadata": {
  "kernelspec": {
   "display_name": "Python (jax-env)",
   "language": "python",
   "name": "jaxkernel"
  },
  "language_info": {
   "codemirror_mode": {
    "name": "ipython",
    "version": 3
   },
   "file_extension": ".py",
   "mimetype": "text/x-python",
   "name": "python",
   "nbconvert_exporter": "python",
   "pygments_lexer": "ipython3",
   "version": "3.11.5"
  }
 },
 "nbformat": 4,
 "nbformat_minor": 5
}
